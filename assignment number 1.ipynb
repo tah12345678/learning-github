{
 "cells": [
  {
   "cell_type": "markdown",
   "id": "e5b870ee",
   "metadata": {},
   "source": [
    "# question 1"
   ]
  },
  {
   "cell_type": "code",
   "execution_count": 5,
   "id": "c5336480",
   "metadata": {},
   "outputs": [
    {
     "name": "stdout",
     "output_type": "stream",
     "text": [
      "enter your salary25000\n",
      "enter your years of service89\n",
      "you have got a bonus increment\n"
     ]
    }
   ],
   "source": [
    "sal = int(input(\"enter your salary\"))\n",
    "years = int(input(\"enter your years of service\"))\n",
    "bonus = sal*0.05\n",
    "if years >5:\n",
    "    print(\"you have got a bonus increment\")\n",
    "else:\n",
    "    print(\"you are not eligible to get bonus increment\")\n"
   ]
  },
  {
   "cell_type": "markdown",
   "id": "6f4ec6fb",
   "metadata": {},
   "source": [
    "# question 2"
   ]
  },
  {
   "cell_type": "code",
   "execution_count": 8,
   "id": "a43d1e33",
   "metadata": {},
   "outputs": [
    {
     "name": "stdout",
     "output_type": "stream",
     "text": [
      "enter your age19\n",
      "eligible for voting\n"
     ]
    }
   ],
   "source": [
    "age = int(input(\"enter your age\"))\n",
    "if age >= 17:\n",
    "    print(\"eligible for voting\")\n",
    "else:\n",
    "    (\"not eligible for voting\")"
   ]
  },
  {
   "cell_type": "markdown",
   "id": "70cff843",
   "metadata": {},
   "source": [
    "# question 3"
   ]
  },
  {
   "cell_type": "code",
   "execution_count": 10,
   "id": "e813dfbe",
   "metadata": {},
   "outputs": [
    {
     "name": "stdout",
     "output_type": "stream",
     "text": [
      "enter your number105\n",
      "the num is odd\n"
     ]
    }
   ],
   "source": [
    "num = int(input(\"enter your number\"))\n",
    "if num % 2 == 0:\n",
    "    print(\"the num is even\")\n",
    "else:\n",
    "    print(\"the num is odd\")"
   ]
  },
  {
   "cell_type": "markdown",
   "id": "7f734aa6",
   "metadata": {},
   "source": [
    "# question 4"
   ]
  },
  {
   "cell_type": "code",
   "execution_count": 11,
   "id": "20a08d0f",
   "metadata": {},
   "outputs": [
    {
     "name": "stdout",
     "output_type": "stream",
     "text": [
      "enter your num49\n",
      "number is divisible by 7\n"
     ]
    }
   ],
   "source": [
    "num = int(input(\"enter your num\"))\n",
    "if num % 7 == 0:\n",
    "    print(\"number is divisible by 7\")\n",
    "else:\n",
    "    print(\"number is not divisible by 7\")"
   ]
  },
  {
   "cell_type": "markdown",
   "id": "1c3e4a23",
   "metadata": {},
   "source": [
    "# question 5"
   ]
  },
  {
   "cell_type": "code",
   "execution_count": 13,
   "id": "19300114",
   "metadata": {},
   "outputs": [
    {
     "name": "stdout",
     "output_type": "stream",
     "text": [
      "enter your num15\n",
      "hello\n"
     ]
    }
   ],
   "source": [
    "num = int(input(\"enter your num\"))\n",
    "if num % 5 == 0:\n",
    "    print(\"hello\")\n",
    "else:\n",
    "    print(\"bye\")"
   ]
  },
  {
   "cell_type": "markdown",
   "id": "08328b7a",
   "metadata": {},
   "source": [
    "# question 6"
   ]
  },
  {
   "cell_type": "code",
   "execution_count": 14,
   "id": "55075e8b",
   "metadata": {},
   "outputs": [
    {
     "name": "stdout",
     "output_type": "stream",
     "text": [
      "Enter the number of units: 1200\n",
      "The total bill amount is Rs. 10000\n"
     ]
    }
   ],
   "source": [
    "units = int(input(\"Enter the number of units: \"))\n",
    "if units <= 100:\n",
    "    bill = 0\n",
    "elif units <= 300:\n",
    "    bill = (units - 100) * 5\n",
    "else:\n",
    "    bill = (200 * 5) + (units - 300) * 10\n",
    "    print(f\"The total bill amount is Rs. {bill}\") "
   ]
  },
  {
   "cell_type": "markdown",
   "id": "58e8ee13",
   "metadata": {},
   "source": [
    "# question 8"
   ]
  },
  {
   "cell_type": "code",
   "execution_count": 4,
   "id": "1cb3a929",
   "metadata": {},
   "outputs": [
    {
     "name": "stdout",
     "output_type": "stream",
     "text": [
      "enter your number746576\n",
      "last digit of a number 746576 : 6\n",
      "divisible by 3\n"
     ]
    }
   ],
   "source": [
    "number = int(input(\"enter your number\"))\n",
    "last_digit = number % 10\n",
    "print (f\"last digit of a number {number} : {last_digit}\")\n",
    "if last_digit %3 == 0:\n",
    "    print (\"divisible by 3\")\n",
    "else:\n",
    "    print (\"not divisible by 3\")\n"
   ]
  },
  {
   "cell_type": "markdown",
   "id": "5875bc4d",
   "metadata": {},
   "source": [
    "# question 7"
   ]
  },
  {
   "cell_type": "code",
   "execution_count": 1,
   "id": "d0346ef1",
   "metadata": {},
   "outputs": [
    {
     "name": "stdout",
     "output_type": "stream",
     "text": [
      "enter your number2323\n",
      "last digit of number 2323 : 3\n"
     ]
    }
   ],
   "source": [
    "\n",
    "number = int(input(\"enter your number\"))\n",
    "last_digit = number % 10\n",
    "print (f\"last digit of number {number} : {last_digit}\")"
   ]
  },
  {
   "cell_type": "markdown",
   "id": "12ca1193",
   "metadata": {},
   "source": [
    "# question 9"
   ]
  },
  {
   "cell_type": "code",
   "execution_count": 5,
   "id": "254e0763",
   "metadata": {},
   "outputs": [
    {
     "name": "stdout",
     "output_type": "stream",
     "text": [
      "enter the lenght65\n",
      "enter the breadth89\n",
      "its a rectangle\n"
     ]
    }
   ],
   "source": [
    "length = int(input(\"enter the lenght\"))\n",
    "breadth =int(input(\"enter the breadth\"))\n",
    "if length == breadth:\n",
    "    print (\"its a square\")\n",
    "else:\n",
    "    print (\"its a rectangle\")"
   ]
  },
  {
   "cell_type": "markdown",
   "id": "f11bc28b",
   "metadata": {},
   "source": [
    "# question 10"
   ]
  },
  {
   "cell_type": "code",
   "execution_count": 7,
   "id": "7df99818",
   "metadata": {},
   "outputs": [
    {
     "name": "stdout",
     "output_type": "stream",
     "text": [
      "enter your number75\n",
      "enter your number89\n",
      "second_value\n"
     ]
    }
   ],
   "source": [
    "first_value = int(input(\"enter your number\"))\n",
    "second_value = int(input(\"enter your number\"))\n",
    "if first_value > second_value:\n",
    "    print(f\"first_value\")\n",
    "elif second_value > first_value:\n",
    "    print(f\"second_value\")\n",
    "else:\n",
    "    print(\"dono same hain\")"
   ]
  },
  {
   "cell_type": "markdown",
   "id": "b8a054c7",
   "metadata": {},
   "source": [
    "# question 12"
   ]
  },
  {
   "cell_type": "code",
   "execution_count": 7,
   "id": "46953a22",
   "metadata": {},
   "outputs": [
    {
     "name": "stdout",
     "output_type": "stream",
     "text": [
      "enter your marks55\n",
      "C\n"
     ]
    }
   ],
   "source": [
    "marks = int(input(\"enter your marks\"))\n",
    "if marks < 25:\n",
    "    print (\"F\")\n",
    "elif 25 <= marks < 45:\n",
    "    print (\"E\")\n",
    "elif 45 <= marks < 50:\n",
    "    print(\"D\")\n",
    "elif 50 <= marks < 60:\n",
    "    print(\"C\")\n",
    "elif 60 <= marks < 80:\n",
    "    print(\"B\")\n",
    "elif marks >= 80:\n",
    "    print(\"A\")"
   ]
  },
  {
   "cell_type": "markdown",
   "id": "1880e153",
   "metadata": {},
   "source": [
    "# question 11"
   ]
  },
  {
   "cell_type": "code",
   "execution_count": 8,
   "id": "3251d66c",
   "metadata": {},
   "outputs": [
    {
     "name": "stdout",
     "output_type": "stream",
     "text": [
      "enter quantity45\n",
      "your total cost is 4050.0 with 10% discount\n"
     ]
    }
   ],
   "source": [
    "quan = int(input(\"enter quantity\"))\n",
    "cost = 100\n",
    "total = quan*cost\n",
    "if total>1000:\n",
    "    total=total - 0.1*total\n",
    "    print(\"your total cost is {} with 10% discount\".format(total))\n",
    "else:\n",
    "    print(\"your total cost is\",total)"
   ]
  },
  {
   "cell_type": "markdown",
   "id": "b6cc7aee",
   "metadata": {},
   "source": [
    "# question 13"
   ]
  },
  {
   "cell_type": "code",
   "execution_count": 2,
   "id": "bcb71e38",
   "metadata": {},
   "outputs": [
    {
     "name": "stdout",
     "output_type": "stream",
     "text": [
      "enter age1: 7\n",
      "enter age2: 9\n",
      "enter age3: 65\n",
      "age3 is oldest\n",
      "age1 is youngest\n"
     ]
    }
   ],
   "source": [
    "\n",
    "age1=int(input('enter age1: '))\n",
    "age2=int(input('enter age2: '))\n",
    "age3=int(input('enter age3: '))\n",
    "if age1>age2 and age1>age3:\n",
    "    print('age1 is oldest')\n",
    "elif age2>age1 and age2>age3:\n",
    "    print('age2 is oldest')\n",
    "else:\n",
    "    print('age3 is oldest')\n",
    "if age1<age2 and age1<age3:\n",
    "    print('age1 is youngest')\n",
    "elif age2<age1 and age2<age3:\n",
    "    print('age2 is youngest')\n",
    "else:\n",
    "     print('age3 is youngest')"
   ]
  },
  {
   "cell_type": "markdown",
   "id": "69a3ba01",
   "metadata": {},
   "source": [
    "# question 14"
   ]
  },
  {
   "cell_type": "code",
   "execution_count": 1,
   "id": "7f2fe9e2",
   "metadata": {},
   "outputs": [
    {
     "name": "stdout",
     "output_type": "stream",
     "text": [
      "enter num of classes held78\n",
      "enter num of classes attend45\n"
     ]
    },
    {
     "ename": "NameError",
     "evalue": "name 'class_attended' is not defined",
     "output_type": "error",
     "traceback": [
      "\u001b[1;31m---------------------------------------------------------------------------\u001b[0m",
      "\u001b[1;31mNameError\u001b[0m                                 Traceback (most recent call last)",
      "Cell \u001b[1;32mIn[1], line 3\u001b[0m\n\u001b[0;32m      1\u001b[0m num_of_class_held \u001b[38;5;241m=\u001b[39m \u001b[38;5;28mint\u001b[39m(\u001b[38;5;28minput\u001b[39m(\u001b[38;5;124m\"\u001b[39m\u001b[38;5;124menter num of classes held\u001b[39m\u001b[38;5;124m\"\u001b[39m))\n\u001b[0;32m      2\u001b[0m num_of_class_attend \u001b[38;5;241m=\u001b[39m \u001b[38;5;28mint\u001b[39m(\u001b[38;5;28minput\u001b[39m(\u001b[38;5;124m\"\u001b[39m\u001b[38;5;124menter num of classes attend\u001b[39m\u001b[38;5;124m\"\u001b[39m))\n\u001b[1;32m----> 3\u001b[0m per \u001b[38;5;241m=\u001b[39m \u001b[38;5;241m100\u001b[39m\u001b[38;5;241m*\u001b[39mclass_attended \u001b[38;5;241m/\u001b[39m class_held\n\u001b[0;32m      4\u001b[0m \u001b[38;5;28;01mif\u001b[39;00m per \u001b[38;5;241m<\u001b[39m \u001b[38;5;241m75\u001b[39m:\n\u001b[0;32m      5\u001b[0m     \u001b[38;5;28mprint\u001b[39m (\u001b[38;5;124m\"\u001b[39m\u001b[38;5;124myou will not allowed to sit\u001b[39m\u001b[38;5;124m\"\u001b[39m)\n",
      "\u001b[1;31mNameError\u001b[0m: name 'class_attended' is not defined"
     ]
    }
   ],
   "source": [
    "\n",
    "num_of_class_held = int(input(\"enter num of classes held\"))\n",
    "num_of_class_attend = int(input(\"enter num of classes attend\"))\n",
    "per = 100*class_attended / class_held\n",
    "if per < 75:\n",
    "    print (\"you will not allowed to sit\")\n",
    "else:\n",
    "    print (\"you will allow to sit\")"
   ]
  },
  {
   "cell_type": "markdown",
   "id": "70972a06",
   "metadata": {},
   "source": [
    "# question 17"
   ]
  },
  {
   "cell_type": "code",
   "execution_count": 3,
   "id": "00da8d09",
   "metadata": {},
   "outputs": [
    {
     "name": "stdout",
     "output_type": "stream",
     "text": [
      "enter your age65\n",
      "M or F: F\n",
      "Y or N: Y\n",
      "work only in urban areas.\n"
     ]
    }
   ],
   "source": [
    "age = int(input(\"enter your age\"))\n",
    "gender = input(\"M or F: \")\n",
    "martial_status = input(\"Y or N: \")\n",
    "if gender == \"F\":\n",
    "    print (\"work only in urban areas.\")\n",
    "    if gender == \"M\" and 20 <= age <40:\n",
    "        print (\"work any whhere\")\n",
    "elif gender == \"M\" and 40 <= age <60:\n",
    "    print (\"work only in urban areas\")\n",
    "else:\n",
    "    print (\"ERROR\")"
   ]
  },
  {
   "cell_type": "markdown",
   "id": "1d388b95",
   "metadata": {},
   "source": [
    "# question 15\n"
   ]
  },
  {
   "cell_type": "code",
   "execution_count": 6,
   "id": "2e3cdb00",
   "metadata": {},
   "outputs": [
    {
     "name": "stdout",
     "output_type": "stream",
     "text": [
      "do you have medical cause (Y or N): Y\n",
      "you can sit in exam\n"
     ]
    }
   ],
   "source": [
    "ask = input(\"do you have medical cause (Y or N): \")\n",
    "if ask == \"Y\":\n",
    "    print(\"you can sit in exam\")\n",
    "else:\n",
    "    print(\"sorry! you can't sit\")"
   ]
  },
  {
   "cell_type": "markdown",
   "id": "537cc235",
   "metadata": {},
   "source": [
    "# question 16"
   ]
  },
  {
   "cell_type": "code",
   "execution_count": 11,
   "id": "04589c31",
   "metadata": {},
   "outputs": [
    {
     "name": "stdout",
     "output_type": "stream",
     "text": [
      "Enter year to be checked: 2006\n",
      "the year is not a leap year\n"
     ]
    }
   ],
   "source": [
    "\n",
    "year = int(input(\"Enter year to be checked: \"))\n",
    " \n",
    "if year % 4 == 0:\n",
    "    if year % 100 == 0:\n",
    "        if year % 400 == 0:\n",
    "            print(\"The year is a leap year!\")\n",
    "else:\n",
    "    print(\"the year is not a leap year\")\n"
   ]
  },
  {
   "cell_type": "code",
   "execution_count": null,
   "id": "b5447507",
   "metadata": {},
   "outputs": [],
   "source": []
  }
 ],
 "metadata": {
  "kernelspec": {
   "display_name": "Python 3 (ipykernel)",
   "language": "python",
   "name": "python3"
  },
  "language_info": {
   "codemirror_mode": {
    "name": "ipython",
    "version": 3
   },
   "file_extension": ".py",
   "mimetype": "text/x-python",
   "name": "python",
   "nbconvert_exporter": "python",
   "pygments_lexer": "ipython3",
   "version": "3.11.5"
  }
 },
 "nbformat": 4,
 "nbformat_minor": 5
}
